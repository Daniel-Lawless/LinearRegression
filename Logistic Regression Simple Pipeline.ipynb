{
 "cells": [
  {
   "cell_type": "code",
   "id": "initial_id",
   "metadata": {
    "collapsed": true,
    "ExecuteTime": {
     "end_time": "2025-07-18T20:30:09.692111Z",
     "start_time": "2025-07-18T20:30:08.678926Z"
    }
   },
   "source": [
    "import pandas                      as pd\n",
    "import numpy                       as np\n",
    "from sklearn.preprocessing         import StandardScaler, OneHotEncoder\n",
    "from sklearn.linear_model          import LogisticRegression\n",
    "from sklearn.model_selection       import train_test_split, cross_val_score, StratifiedKFold\n",
    "from sklearn.multiclass            import OneVsOneClassifier, OneVsRestClassifier\n",
    "from sklearn.compose               import ColumnTransformer\n",
    "from sklearn.pipeline              import Pipeline\n",
    "import warnings\n",
    "\n",
    "warnings.filterwarnings(\n",
    "    \"ignore\",\n",
    "    message=r\"^Found unknown categories\",\n",
    "    module=r\"sklearn\\.preprocessing\\._encoders\"\n",
    ")\n",
    "\n",
    "file_path = \"https://cf-courses-data.s3.us.cloud-object-storage.appdomain.cloud/GkDzb7bWrtvGXdPOfk6CIg/Obesity-level-prediction-dataset.csv\"\n",
    "data = pd.read_csv(file_path)\n",
    "data.head()"
   ],
   "outputs": [
    {
     "data": {
      "text/plain": [
       "   Gender   Age  Height  Weight family_history_with_overweight FAVC  FCVC  \\\n",
       "0  Female  21.0    1.62    64.0                            yes   no   2.0   \n",
       "1  Female  21.0    1.52    56.0                            yes   no   3.0   \n",
       "2    Male  23.0    1.80    77.0                            yes   no   2.0   \n",
       "3    Male  27.0    1.80    87.0                             no   no   3.0   \n",
       "4    Male  22.0    1.78    89.8                             no   no   2.0   \n",
       "\n",
       "   NCP       CAEC SMOKE  CH2O  SCC  FAF  TUE        CALC  \\\n",
       "0  3.0  Sometimes    no   2.0   no  0.0  1.0          no   \n",
       "1  3.0  Sometimes   yes   3.0  yes  3.0  0.0   Sometimes   \n",
       "2  3.0  Sometimes    no   2.0   no  2.0  1.0  Frequently   \n",
       "3  3.0  Sometimes    no   2.0   no  2.0  0.0  Frequently   \n",
       "4  1.0  Sometimes    no   2.0   no  0.0  0.0   Sometimes   \n",
       "\n",
       "                  MTRANS           NObeyesdad  \n",
       "0  Public_Transportation        Normal_Weight  \n",
       "1  Public_Transportation        Normal_Weight  \n",
       "2  Public_Transportation        Normal_Weight  \n",
       "3                Walking   Overweight_Level_I  \n",
       "4  Public_Transportation  Overweight_Level_II  "
      ],
      "text/html": [
       "<div>\n",
       "<style scoped>\n",
       "    .dataframe tbody tr th:only-of-type {\n",
       "        vertical-align: middle;\n",
       "    }\n",
       "\n",
       "    .dataframe tbody tr th {\n",
       "        vertical-align: top;\n",
       "    }\n",
       "\n",
       "    .dataframe thead th {\n",
       "        text-align: right;\n",
       "    }\n",
       "</style>\n",
       "<table border=\"1\" class=\"dataframe\">\n",
       "  <thead>\n",
       "    <tr style=\"text-align: right;\">\n",
       "      <th></th>\n",
       "      <th>Gender</th>\n",
       "      <th>Age</th>\n",
       "      <th>Height</th>\n",
       "      <th>Weight</th>\n",
       "      <th>family_history_with_overweight</th>\n",
       "      <th>FAVC</th>\n",
       "      <th>FCVC</th>\n",
       "      <th>NCP</th>\n",
       "      <th>CAEC</th>\n",
       "      <th>SMOKE</th>\n",
       "      <th>CH2O</th>\n",
       "      <th>SCC</th>\n",
       "      <th>FAF</th>\n",
       "      <th>TUE</th>\n",
       "      <th>CALC</th>\n",
       "      <th>MTRANS</th>\n",
       "      <th>NObeyesdad</th>\n",
       "    </tr>\n",
       "  </thead>\n",
       "  <tbody>\n",
       "    <tr>\n",
       "      <th>0</th>\n",
       "      <td>Female</td>\n",
       "      <td>21.0</td>\n",
       "      <td>1.62</td>\n",
       "      <td>64.0</td>\n",
       "      <td>yes</td>\n",
       "      <td>no</td>\n",
       "      <td>2.0</td>\n",
       "      <td>3.0</td>\n",
       "      <td>Sometimes</td>\n",
       "      <td>no</td>\n",
       "      <td>2.0</td>\n",
       "      <td>no</td>\n",
       "      <td>0.0</td>\n",
       "      <td>1.0</td>\n",
       "      <td>no</td>\n",
       "      <td>Public_Transportation</td>\n",
       "      <td>Normal_Weight</td>\n",
       "    </tr>\n",
       "    <tr>\n",
       "      <th>1</th>\n",
       "      <td>Female</td>\n",
       "      <td>21.0</td>\n",
       "      <td>1.52</td>\n",
       "      <td>56.0</td>\n",
       "      <td>yes</td>\n",
       "      <td>no</td>\n",
       "      <td>3.0</td>\n",
       "      <td>3.0</td>\n",
       "      <td>Sometimes</td>\n",
       "      <td>yes</td>\n",
       "      <td>3.0</td>\n",
       "      <td>yes</td>\n",
       "      <td>3.0</td>\n",
       "      <td>0.0</td>\n",
       "      <td>Sometimes</td>\n",
       "      <td>Public_Transportation</td>\n",
       "      <td>Normal_Weight</td>\n",
       "    </tr>\n",
       "    <tr>\n",
       "      <th>2</th>\n",
       "      <td>Male</td>\n",
       "      <td>23.0</td>\n",
       "      <td>1.80</td>\n",
       "      <td>77.0</td>\n",
       "      <td>yes</td>\n",
       "      <td>no</td>\n",
       "      <td>2.0</td>\n",
       "      <td>3.0</td>\n",
       "      <td>Sometimes</td>\n",
       "      <td>no</td>\n",
       "      <td>2.0</td>\n",
       "      <td>no</td>\n",
       "      <td>2.0</td>\n",
       "      <td>1.0</td>\n",
       "      <td>Frequently</td>\n",
       "      <td>Public_Transportation</td>\n",
       "      <td>Normal_Weight</td>\n",
       "    </tr>\n",
       "    <tr>\n",
       "      <th>3</th>\n",
       "      <td>Male</td>\n",
       "      <td>27.0</td>\n",
       "      <td>1.80</td>\n",
       "      <td>87.0</td>\n",
       "      <td>no</td>\n",
       "      <td>no</td>\n",
       "      <td>3.0</td>\n",
       "      <td>3.0</td>\n",
       "      <td>Sometimes</td>\n",
       "      <td>no</td>\n",
       "      <td>2.0</td>\n",
       "      <td>no</td>\n",
       "      <td>2.0</td>\n",
       "      <td>0.0</td>\n",
       "      <td>Frequently</td>\n",
       "      <td>Walking</td>\n",
       "      <td>Overweight_Level_I</td>\n",
       "    </tr>\n",
       "    <tr>\n",
       "      <th>4</th>\n",
       "      <td>Male</td>\n",
       "      <td>22.0</td>\n",
       "      <td>1.78</td>\n",
       "      <td>89.8</td>\n",
       "      <td>no</td>\n",
       "      <td>no</td>\n",
       "      <td>2.0</td>\n",
       "      <td>1.0</td>\n",
       "      <td>Sometimes</td>\n",
       "      <td>no</td>\n",
       "      <td>2.0</td>\n",
       "      <td>no</td>\n",
       "      <td>0.0</td>\n",
       "      <td>0.0</td>\n",
       "      <td>Sometimes</td>\n",
       "      <td>Public_Transportation</td>\n",
       "      <td>Overweight_Level_II</td>\n",
       "    </tr>\n",
       "  </tbody>\n",
       "</table>\n",
       "</div>"
      ]
     },
     "execution_count": 106,
     "metadata": {},
     "output_type": "execute_result"
    }
   ],
   "execution_count": 106
  },
  {
   "metadata": {
    "ExecuteTime": {
     "end_time": "2025-07-18T20:30:09.767374Z",
     "start_time": "2025-07-18T20:30:09.759412Z"
    }
   },
   "cell_type": "code",
   "source": [
    "# Separate our independent and dependent features.\n",
    "X = data.drop(columns=[\"NObeyesdad\"])\n",
    "y = data[\"NObeyesdad\"]\n",
    "\n",
    "# Split our data.\n",
    "X_train, X_test, y_train, y_test = train_test_split(X, y, test_size=0.2, random_state=42, stratify=y)"
   ],
   "id": "3569755b808b4015",
   "outputs": [],
   "execution_count": 107
  },
  {
   "metadata": {
    "ExecuteTime": {
     "end_time": "2025-07-18T20:30:09.893451Z",
     "start_time": "2025-07-18T20:30:09.889266Z"
    }
   },
   "cell_type": "code",
   "source": [
    "# Split our data into numerical and categorical features.\n",
    "numerical_Features = [feature for feature in X_train.columns if X_train[feature].dtype != 'O']\n",
    "categorical_features = [feature for feature in X_train.columns if X_train[feature].dtype == 'O']"
   ],
   "id": "1561cbb1766d21b7",
   "outputs": [],
   "execution_count": 108
  },
  {
   "metadata": {
    "ExecuteTime": {
     "end_time": "2025-07-18T20:30:38.577230Z",
     "start_time": "2025-07-18T20:30:38.574375Z"
    }
   },
   "cell_type": "code",
   "source": [
    "# Create a pipeline that standardizes our numerical features and encodes our categorical features.\n",
    "preprocess = ColumnTransformer([\n",
    "        ('scaler', StandardScaler(), numerical_Features),\n",
    "        ('encoder', OneHotEncoder(sparse_output=False, drop='first', handle_unknown=\"ignore\"), categorical_features),\n",
    "    ])"
   ],
   "id": "d0ab84e66ae70457",
   "outputs": [],
   "execution_count": 112
  },
  {
   "metadata": {
    "ExecuteTime": {
     "end_time": "2025-07-18T20:30:39.032623Z",
     "start_time": "2025-07-18T20:30:39.029382Z"
    }
   },
   "cell_type": "code",
   "source": [
    "# Create a pipeline that preprocesses the data using the ColumnTransformer and train the OvR logistic regression model.\n",
    "pipeline_OvR = Pipeline([\n",
    "    ('preprocessor', preprocess),\n",
    "    ('model', OneVsRestClassifier(LogisticRegression(max_iter=1000)))\n",
    "])\n",
    "\n",
    "# Create a pipeline that preprocesses the data using the ColumnTransformer and train the OvO logistic regression model.\n",
    "pipeline_OvO = Pipeline([\n",
    "    ('preprocessor', preprocess),\n",
    "    ('model', OneVsOneClassifier(LogisticRegression(max_iter=1000)))\n",
    "])"
   ],
   "id": "5469c0e23eeed93f",
   "outputs": [],
   "execution_count": 113
  },
  {
   "metadata": {
    "ExecuteTime": {
     "end_time": "2025-07-18T20:30:43.346811Z",
     "start_time": "2025-07-18T20:30:39.459608Z"
    }
   },
   "cell_type": "code",
   "source": [
    "# Evaluation using StratifiedKFold and f1_macro scoring.\n",
    "k_fold = StratifiedKFold(n_splits=20, shuffle=True, random_state=42)\n",
    "\n",
    "# f1 macro score for OvR\n",
    "f1_macro_OvR = cross_val_score(pipeline_OvR, X_train, y_train,\n",
    "                               cv=k_fold, scoring='f1_macro').mean()\n",
    "\n",
    "# f1 macro score for OvO\n",
    "f1_macro_OvO = cross_val_score(pipeline_OvO, X_train, y_train,\n",
    "                               cv=k_fold, scoring='f1_macro').mean()\n",
    "\n",
    "print(f\"f1 macro score for OvR strategy is {np.round(100 * f1_macro_OvR, 2)}% \")\n",
    "print(f\"f1 macro score for OvO strategy is {np.round(100 * f1_macro_OvO, 2)}% \")"
   ],
   "id": "81cd941aa5728ca8",
   "outputs": [
    {
     "name": "stdout",
     "output_type": "stream",
     "text": [
      "f1 macro score for OvR strategy is 75.11% \n",
      "f1 macro score for OvO strategy is 93.21% \n"
     ]
    }
   ],
   "execution_count": 114
  }
 ],
 "metadata": {
  "kernelspec": {
   "display_name": "Python 3",
   "language": "python",
   "name": "python3"
  },
  "language_info": {
   "codemirror_mode": {
    "name": "ipython",
    "version": 2
   },
   "file_extension": ".py",
   "mimetype": "text/x-python",
   "name": "python",
   "nbconvert_exporter": "python",
   "pygments_lexer": "ipython2",
   "version": "2.7.6"
  }
 },
 "nbformat": 4,
 "nbformat_minor": 5
}
