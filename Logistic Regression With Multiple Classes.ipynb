{
 "cells": [
  {
   "cell_type": "code",
   "id": "initial_id",
   "metadata": {
    "collapsed": true,
    "ExecuteTime": {
     "end_time": "2025-07-16T21:31:11.389353Z",
     "start_time": "2025-07-16T21:31:10.439428Z"
    }
   },
   "source": [
    "import pandas as pd\n",
    "import seaborn as sns\n",
    "import numpy as np\n",
    "import matplotlib.pyplot as plt\n",
    "from sklearn.preprocessing import StandardScaler, OneHotEncoder,LabelEncoder\n",
    "from sklearn.multiclass import OneVsRestClassifier, OneVsOneClassifier\n",
    "from sklearn.linear_model import LogisticRegression\n",
    "from sklearn.metrics import accuracy_score\n",
    "from sklearn.model_selection import train_test_split, KFold\n",
    "\n",
    "file_path = \"https://cf-courses-data.s3.us.cloud-object-storage.appdomain.cloud/GkDzb7bWrtvGXdPOfk6CIg/Obesity-level-prediction-dataset.csv\"\n",
    "data = pd.read_csv(file_path)\n",
    "data.head()"
   ],
   "outputs": [
    {
     "data": {
      "text/plain": [
       "   Gender   Age  Height  Weight family_history_with_overweight FAVC  FCVC  \\\n",
       "0  Female  21.0    1.62    64.0                            yes   no   2.0   \n",
       "1  Female  21.0    1.52    56.0                            yes   no   3.0   \n",
       "2    Male  23.0    1.80    77.0                            yes   no   2.0   \n",
       "3    Male  27.0    1.80    87.0                             no   no   3.0   \n",
       "4    Male  22.0    1.78    89.8                             no   no   2.0   \n",
       "\n",
       "   NCP       CAEC SMOKE  CH2O  SCC  FAF  TUE        CALC  \\\n",
       "0  3.0  Sometimes    no   2.0   no  0.0  1.0          no   \n",
       "1  3.0  Sometimes   yes   3.0  yes  3.0  0.0   Sometimes   \n",
       "2  3.0  Sometimes    no   2.0   no  2.0  1.0  Frequently   \n",
       "3  3.0  Sometimes    no   2.0   no  2.0  0.0  Frequently   \n",
       "4  1.0  Sometimes    no   2.0   no  0.0  0.0   Sometimes   \n",
       "\n",
       "                  MTRANS           NObeyesdad  \n",
       "0  Public_Transportation        Normal_Weight  \n",
       "1  Public_Transportation        Normal_Weight  \n",
       "2  Public_Transportation        Normal_Weight  \n",
       "3                Walking   Overweight_Level_I  \n",
       "4  Public_Transportation  Overweight_Level_II  "
      ],
      "text/html": [
       "<div>\n",
       "<style scoped>\n",
       "    .dataframe tbody tr th:only-of-type {\n",
       "        vertical-align: middle;\n",
       "    }\n",
       "\n",
       "    .dataframe tbody tr th {\n",
       "        vertical-align: top;\n",
       "    }\n",
       "\n",
       "    .dataframe thead th {\n",
       "        text-align: right;\n",
       "    }\n",
       "</style>\n",
       "<table border=\"1\" class=\"dataframe\">\n",
       "  <thead>\n",
       "    <tr style=\"text-align: right;\">\n",
       "      <th></th>\n",
       "      <th>Gender</th>\n",
       "      <th>Age</th>\n",
       "      <th>Height</th>\n",
       "      <th>Weight</th>\n",
       "      <th>family_history_with_overweight</th>\n",
       "      <th>FAVC</th>\n",
       "      <th>FCVC</th>\n",
       "      <th>NCP</th>\n",
       "      <th>CAEC</th>\n",
       "      <th>SMOKE</th>\n",
       "      <th>CH2O</th>\n",
       "      <th>SCC</th>\n",
       "      <th>FAF</th>\n",
       "      <th>TUE</th>\n",
       "      <th>CALC</th>\n",
       "      <th>MTRANS</th>\n",
       "      <th>NObeyesdad</th>\n",
       "    </tr>\n",
       "  </thead>\n",
       "  <tbody>\n",
       "    <tr>\n",
       "      <th>0</th>\n",
       "      <td>Female</td>\n",
       "      <td>21.0</td>\n",
       "      <td>1.62</td>\n",
       "      <td>64.0</td>\n",
       "      <td>yes</td>\n",
       "      <td>no</td>\n",
       "      <td>2.0</td>\n",
       "      <td>3.0</td>\n",
       "      <td>Sometimes</td>\n",
       "      <td>no</td>\n",
       "      <td>2.0</td>\n",
       "      <td>no</td>\n",
       "      <td>0.0</td>\n",
       "      <td>1.0</td>\n",
       "      <td>no</td>\n",
       "      <td>Public_Transportation</td>\n",
       "      <td>Normal_Weight</td>\n",
       "    </tr>\n",
       "    <tr>\n",
       "      <th>1</th>\n",
       "      <td>Female</td>\n",
       "      <td>21.0</td>\n",
       "      <td>1.52</td>\n",
       "      <td>56.0</td>\n",
       "      <td>yes</td>\n",
       "      <td>no</td>\n",
       "      <td>3.0</td>\n",
       "      <td>3.0</td>\n",
       "      <td>Sometimes</td>\n",
       "      <td>yes</td>\n",
       "      <td>3.0</td>\n",
       "      <td>yes</td>\n",
       "      <td>3.0</td>\n",
       "      <td>0.0</td>\n",
       "      <td>Sometimes</td>\n",
       "      <td>Public_Transportation</td>\n",
       "      <td>Normal_Weight</td>\n",
       "    </tr>\n",
       "    <tr>\n",
       "      <th>2</th>\n",
       "      <td>Male</td>\n",
       "      <td>23.0</td>\n",
       "      <td>1.80</td>\n",
       "      <td>77.0</td>\n",
       "      <td>yes</td>\n",
       "      <td>no</td>\n",
       "      <td>2.0</td>\n",
       "      <td>3.0</td>\n",
       "      <td>Sometimes</td>\n",
       "      <td>no</td>\n",
       "      <td>2.0</td>\n",
       "      <td>no</td>\n",
       "      <td>2.0</td>\n",
       "      <td>1.0</td>\n",
       "      <td>Frequently</td>\n",
       "      <td>Public_Transportation</td>\n",
       "      <td>Normal_Weight</td>\n",
       "    </tr>\n",
       "    <tr>\n",
       "      <th>3</th>\n",
       "      <td>Male</td>\n",
       "      <td>27.0</td>\n",
       "      <td>1.80</td>\n",
       "      <td>87.0</td>\n",
       "      <td>no</td>\n",
       "      <td>no</td>\n",
       "      <td>3.0</td>\n",
       "      <td>3.0</td>\n",
       "      <td>Sometimes</td>\n",
       "      <td>no</td>\n",
       "      <td>2.0</td>\n",
       "      <td>no</td>\n",
       "      <td>2.0</td>\n",
       "      <td>0.0</td>\n",
       "      <td>Frequently</td>\n",
       "      <td>Walking</td>\n",
       "      <td>Overweight_Level_I</td>\n",
       "    </tr>\n",
       "    <tr>\n",
       "      <th>4</th>\n",
       "      <td>Male</td>\n",
       "      <td>22.0</td>\n",
       "      <td>1.78</td>\n",
       "      <td>89.8</td>\n",
       "      <td>no</td>\n",
       "      <td>no</td>\n",
       "      <td>2.0</td>\n",
       "      <td>1.0</td>\n",
       "      <td>Sometimes</td>\n",
       "      <td>no</td>\n",
       "      <td>2.0</td>\n",
       "      <td>no</td>\n",
       "      <td>0.0</td>\n",
       "      <td>0.0</td>\n",
       "      <td>Sometimes</td>\n",
       "      <td>Public_Transportation</td>\n",
       "      <td>Overweight_Level_II</td>\n",
       "    </tr>\n",
       "  </tbody>\n",
       "</table>\n",
       "</div>"
      ]
     },
     "execution_count": 122,
     "metadata": {},
     "output_type": "execute_result"
    }
   ],
   "execution_count": 122
  },
  {
   "metadata": {
    "ExecuteTime": {
     "end_time": "2025-07-16T21:31:11.615358Z",
     "start_time": "2025-07-16T21:31:11.479032Z"
    }
   },
   "cell_type": "code",
   "source": [
    "# Check classes labels are evenly distributed to avoid bias training.\n",
    "sns.countplot(y=\"NObeyesdad\", data=data)\n",
    "plt.title(\"Distribution of obesity levels\")"
   ],
   "id": "146d2729f4979c65",
   "outputs": [
    {
     "data": {
      "text/plain": [
       "Text(0.5, 1.0, 'Distribution of obesity levels')"
      ]
     },
     "execution_count": 123,
     "metadata": {},
     "output_type": "execute_result"
    },
    {
     "data": {
      "text/plain": [
       "<Figure size 640x480 with 1 Axes>"
      ],
      "image/png": "[encoded data removed]"
     },
     "metadata": {},
     "output_type": "display_data"
    }
   ],
   "execution_count": 123
  },
  {
   "metadata": {
    "ExecuteTime": {
     "end_time": "2025-07-16T21:31:11.700263Z",
     "start_time": "2025-07-16T21:31:11.694306Z"
    }
   },
   "cell_type": "code",
   "source": [
    "# Separate independent variable and target variable into different sets. Then split the data.\n",
    "X = data.drop(columns=[\"NObeyesdad\"])\n",
    "y = data[\"NObeyesdad\"]\n",
    "X_train, X_test, y_train, y_test = train_test_split(X, y, test_size=0.2, random_state=42)"
   ],
   "id": "3e6d41e5540de99f",
   "outputs": [],
   "execution_count": 124
  },
  {
   "metadata": {
    "ExecuteTime": {
     "end_time": "2025-07-16T21:31:11.824369Z",
     "start_time": "2025-07-16T21:31:11.815706Z"
    }
   },
   "cell_type": "code",
   "source": [
    "# Extract the continuous column names from X_train\n",
    "continuous_columns = X_train.select_dtypes(include=['float64']).columns\n",
    "\n",
    "# Allow our scalar to learn the mean and standard deviation from the continuous columns of the X_train set\n",
    "scaler = StandardScaler()\n",
    "scaler.fit(X_train[continuous_columns])\n",
    "\n",
    "# Apply this scalar to our X_train and X_test sets.\n",
    "scaled_X_train_features = scaler.transform(X_train[continuous_columns])\n",
    "scaled_X_test_features = scaler.transform(X_test[continuous_columns])\n",
    "\n",
    "# Convert back to dataframes.\n",
    "scaled_X_train_features = pd.DataFrame(scaled_X_train_features, columns=continuous_columns)\n",
    "scaled_X_test_features = pd.DataFrame(scaled_X_test_features, columns=continuous_columns)"
   ],
   "id": "c87638a11bd442b",
   "outputs": [],
   "execution_count": 125
  },
  {
   "metadata": {
    "ExecuteTime": {
     "end_time": "2025-07-16T21:31:11.898984Z",
     "start_time": "2025-07-16T21:31:11.885440Z"
    }
   },
   "cell_type": "code",
   "source": [
    "# Extract categorical columns\n",
    "categorical_columns = X_train.select_dtypes(include=[\"object\"]).columns\n",
    "\n",
    "# Create encoder and have it return a dense np.array with the dummy variable trap removed. Then train the encoder.\n",
    "encoder = OneHotEncoder(sparse_output=False, drop=\"first\")\n",
    "encoder.fit(X_train[categorical_columns])\n",
    "\n",
    "# Apply the learned encoder to our train and test set, converting our categorical values into binary values.\n",
    "X_train_encoded = encoder.transform(X_train[categorical_columns])\n",
    "X_test_encoded = encoder.transform(X_test[categorical_columns])\n",
    "\n",
    "# Convert back to dataframes\n",
    "X_train_encoded = pd.DataFrame(X_train_encoded, columns=encoder.get_feature_names_out(categorical_columns))\n",
    "X_test_encoded = pd.DataFrame(X_test_encoded, columns=encoder.get_feature_names_out(categorical_columns))\n",
    "\n",
    "# Concatenate our scaled numeric columns and our encoded categorical columns to get our final X_train and X_test sets.\n",
    "X_train_full = pd.concat([scaled_X_train_features, X_train_encoded], axis=1)\n",
    "X_test_full = pd.concat([scaled_X_test_features, X_test_encoded], axis=1)"
   ],
   "id": "bae5ee796bc28807",
   "outputs": [],
   "execution_count": 126
  },
  {
   "metadata": {
    "ExecuteTime": {
     "end_time": "2025-07-16T21:31:11.959336Z",
     "start_time": "2025-07-16T21:31:11.956058Z"
    }
   },
   "cell_type": "code",
   "source": [
    "# Encode our target variable\n",
    "label_encoder = LabelEncoder()\n",
    "y = label_encoder.fit_transform(data[\"NObeyesdad\"])"
   ],
   "id": "a40cce977611390e",
   "outputs": [],
   "execution_count": 127
  },
  {
   "metadata": {
    "ExecuteTime": {
     "end_time": "2025-07-16T21:31:12.354928Z",
     "start_time": "2025-07-16T21:31:12.269951Z"
    }
   },
   "cell_type": "code",
   "source": [
    "# Extending usual binary classification logistic regression using a One-vs-All approach.\n",
    "model_OvR = OneVsRestClassifier(LogisticRegression(max_iter=1000))\n",
    "model_OvR.fit(X_train_full, y_train)\n",
    "\n",
    "# Find predictions\n",
    "y_pred_OvR = model_OvR.predict(X_test_full)\n",
    "\n",
    "# Evaluation metrics for OvA\n",
    "print(\"One-vs-All (OvA) Strategy\")\n",
    "print(f\"Accuracy: {np.round(100 * accuracy_score(y_test, y_pred_OvR), 2)}%\")"
   ],
   "id": "2e07ef608d637b4b",
   "outputs": [
    {
     "name": "stdout",
     "output_type": "stream",
     "text": [
      "One-vs-All (OvA) Strategy\n",
      "Accuracy: 74.47%\n"
     ]
    }
   ],
   "execution_count": 128
  },
  {
   "metadata": {
    "ExecuteTime": {
     "end_time": "2025-07-16T21:31:13.471790Z",
     "start_time": "2025-07-16T21:31:13.355735Z"
    }
   },
   "cell_type": "code",
   "source": [
    "# Extending usual binary classification logistic regression using a One-vs-One approach.\n",
    "model_OvO = OneVsOneClassifier(LogisticRegression(max_iter=1000))\n",
    "model_OvO.fit(X_train_full, y_train)\n",
    "\n",
    "# Find predictions\n",
    "y_pred_OvO = model_OvO.predict(X_test_full)\n",
    "\n",
    "# Evaluation metrics for OvA\n",
    "print(\"One-vs-one (OvO) strategy\")\n",
    "print(f\"Accuracy = {np.round(100 * accuracy_score(y_pred_OvO, y_test), 2)}%\")"
   ],
   "id": "e88e063c26491a97",
   "outputs": [
    {
     "name": "stdout",
     "output_type": "stream",
     "text": [
      "One-vs-one (OvO) strategy\n",
      "Accuracy = 93.38%\n"
     ]
    }
   ],
   "execution_count": 129
  },
  {
   "metadata": {},
   "cell_type": "code",
   "outputs": [],
   "execution_count": null,
   "source": "",
   "id": "88d8aa283d3da207"
  }
 ],
 "metadata": {
  "kernelspec": {
   "display_name": "Python 3",
   "language": "python",
   "name": "python3"
  },
  "language_info": {
   "codemirror_mode": {
    "name": "ipython",
    "version": 2
   },
   "file_extension": ".py",
   "mimetype": "text/x-python",
   "name": "python",
   "nbconvert_exporter": "python",
   "pygments_lexer": "ipython2",
   "version": "2.7.6"
  }
 },
 "nbformat": 4,
 "nbformat_minor": 5
}
