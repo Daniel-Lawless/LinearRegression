{
 "cells": [
  {
   "cell_type": "code",
   "id": "initial_id",
   "metadata": {
    "collapsed": true,
    "ExecuteTime": {
     "end_time": "2025-07-15T18:47:18.076049Z",
     "start_time": "2025-07-15T18:47:17.370730Z"
    }
   },
   "source": [
    "import pandas as pd\n",
    "import numpy as np\n",
    "import matplotlib.pyplot as plt\n",
    "from sklearn.linear_model import LogisticRegression\n",
    "from sklearn.model_selection import train_test_split\n",
    "from sklearn.preprocessing import StandardScaler\n",
    "from sklearn.metrics import log_loss\n",
    "\n",
    "url = \"https://cf-courses-data.s3.us.cloud-object-storage.appdomain.cloud/IBMDeveloperSkillsNetwork-ML0101EN-SkillsNetwork/labs/Module%203/data/ChurnData.csv\"\n",
    "churn_df = pd.read_csv(url)"
   ],
   "outputs": [],
   "execution_count": 19
  },
  {
   "metadata": {
    "ExecuteTime": {
     "end_time": "2025-07-15T18:47:18.102299Z",
     "start_time": "2025-07-15T18:47:18.098291Z"
    }
   },
   "cell_type": "code",
   "source": [
    "churn_df = churn_df[['tenure', 'age', 'address', 'income', 'ed', 'employ', 'equip', 'churn']]\n",
    "churn_df['churn'] = churn_df['churn'].astype('int')"
   ],
   "id": "5b2489528b9a8d35",
   "outputs": [],
   "execution_count": 20
  },
  {
   "metadata": {
    "ExecuteTime": {
     "end_time": "2025-07-15T18:47:18.147910Z",
     "start_time": "2025-07-15T18:47:18.127826Z"
    }
   },
   "cell_type": "code",
   "source": [
    "# Separate our independent variables from our target variable.\n",
    "X = churn_df.drop(columns = ['churn'])\n",
    "y = churn_df['churn']\n",
    "\n",
    "# Split our data.\n",
    "X_train, X_test, y_train, y_test = train_test_split(X,y, test_size = 0.2, random_state = 42)\n",
    "\n",
    "# Standardize our independent train and test sets.\n",
    "scalar = StandardScaler()\n",
    "scalar.fit(X_train)\n",
    "X_train_scaled = scalar.transform(X_train)\n",
    "X_test_scaled = scalar.transform(X_test)\n",
    "\n",
    "# Pick and train our model on the training data\n",
    "model = LogisticRegression().fit(X_train_scaled, y_train)\n",
    "\n",
    "# Use the learned weights to make predictions\n",
    "y_hat = model.predict(X_test_scaled)\n",
    "\n",
    "# We can check the probability our model gave each data point to be in either class 0 or class 1. The first column is the probability of the data point being in\n",
    "# class 0, and the second column is the probability of the data point being in class 1.\n",
    "y_hat_prob = model.predict_proba(X_test_scaled)\n",
    "\n",
    "# Lastly, we can evaluate our model using the cross entropy loss.\n",
    "log_loss(y_test, y_hat_prob)"
   ],
   "id": "2f64841d364dec59",
   "outputs": [
    {
     "data": {
      "text/plain": [
       "0.4074434664715046"
      ]
     },
     "execution_count": 21,
     "metadata": {},
     "output_type": "execute_result"
    }
   ],
   "execution_count": 21
  },
  {
   "metadata": {
    "ExecuteTime": {
     "end_time": "2025-07-15T18:52:36.965133Z",
     "start_time": "2025-07-15T18:52:36.874493Z"
    }
   },
   "cell_type": "code",
   "source": [
    "# Analyse how each coefficient affects the likelihood of choosing class 1. The more positive the coefficient, the more it pushes our model to choose class 1.\n",
    "# The more negative it is, the more it pushes our model to choose class 0.\n",
    "coefficients = pd.DataFrame(model.coef_[0], columns = [\"coefficients\"])\n",
    "coefficients.sort_values(by = \"coefficients\").plot(kind='barh')\n",
    "plt.title(\"Feature Coefficients in Logistic Regression Churn Model\")\n",
    "plt.xlabel(\"Coefficient Value\")\n",
    "plt.show()"
   ],
   "id": "681ff1b9edf2d62a",
   "outputs": [
    {
     "data": {
      "text/plain": [
       "<Figure size 640x480 with 1 Axes>"
      ],
      "image/png": "[encoded data removed]"
     },
     "metadata": {},
     "output_type": "display_data"
    }
   ],
   "execution_count": 37
  },
  {
   "metadata": {
    "ExecuteTime": {
     "end_time": "2025-07-15T18:47:04.679347Z",
     "start_time": "2025-07-15T18:47:04.670836Z"
    }
   },
   "cell_type": "code",
   "source": [
    "# For simplicity, let's use two input variables to plot the outcome of our model.\n",
    "churn_df.corr()"
   ],
   "id": "45664ef8d66d8e2d",
   "outputs": [
    {
     "data": {
      "text/plain": [
       "           tenure       age   address    income        ed    employ     equip  \\\n",
       "tenure   1.000000  0.431802  0.456328  0.109383 -0.070503  0.445755 -0.117102   \n",
       "age      0.431802  1.000000  0.746566  0.211275 -0.071509  0.622553 -0.071357   \n",
       "address  0.456328  0.746566  1.000000  0.132807 -0.145550  0.520926 -0.148977   \n",
       "income   0.109383  0.211275  0.132807  1.000000  0.141241  0.345161 -0.010741   \n",
       "ed      -0.070503 -0.071509 -0.145550  0.141241  1.000000 -0.213886  0.488041   \n",
       "employ   0.445755  0.622553  0.520926  0.345161 -0.213886  1.000000 -0.174470   \n",
       "equip   -0.117102 -0.071357 -0.148977 -0.010741  0.488041 -0.174470  1.000000   \n",
       "churn   -0.376860 -0.287697 -0.260659 -0.090790  0.216112 -0.337969  0.275284   \n",
       "\n",
       "            churn  \n",
       "tenure  -0.376860  \n",
       "age     -0.287697  \n",
       "address -0.260659  \n",
       "income  -0.090790  \n",
       "ed       0.216112  \n",
       "employ  -0.337969  \n",
       "equip    0.275284  \n",
       "churn    1.000000  "
      ],
      "text/html": [
       "<div>\n",
       "<style scoped>\n",
       "    .dataframe tbody tr th:only-of-type {\n",
       "        vertical-align: middle;\n",
       "    }\n",
       "\n",
       "    .dataframe tbody tr th {\n",
       "        vertical-align: top;\n",
       "    }\n",
       "\n",
       "    .dataframe thead th {\n",
       "        text-align: right;\n",
       "    }\n",
       "</style>\n",
       "<table border=\"1\" class=\"dataframe\">\n",
       "  <thead>\n",
       "    <tr style=\"text-align: right;\">\n",
       "      <th></th>\n",
       "      <th>tenure</th>\n",
       "      <th>age</th>\n",
       "      <th>address</th>\n",
       "      <th>income</th>\n",
       "      <th>ed</th>\n",
       "      <th>employ</th>\n",
       "      <th>equip</th>\n",
       "      <th>churn</th>\n",
       "    </tr>\n",
       "  </thead>\n",
       "  <tbody>\n",
       "    <tr>\n",
       "      <th>tenure</th>\n",
       "      <td>1.000000</td>\n",
       "      <td>0.431802</td>\n",
       "      <td>0.456328</td>\n",
       "      <td>0.109383</td>\n",
       "      <td>-0.070503</td>\n",
       "      <td>0.445755</td>\n",
       "      <td>-0.117102</td>\n",
       "      <td>-0.376860</td>\n",
       "    </tr>\n",
       "    <tr>\n",
       "      <th>age</th>\n",
       "      <td>0.431802</td>\n",
       "      <td>1.000000</td>\n",
       "      <td>0.746566</td>\n",
       "      <td>0.211275</td>\n",
       "      <td>-0.071509</td>\n",
       "      <td>0.622553</td>\n",
       "      <td>-0.071357</td>\n",
       "      <td>-0.287697</td>\n",
       "    </tr>\n",
       "    <tr>\n",
       "      <th>address</th>\n",
       "      <td>0.456328</td>\n",
       "      <td>0.746566</td>\n",
       "      <td>1.000000</td>\n",
       "      <td>0.132807</td>\n",
       "      <td>-0.145550</td>\n",
       "      <td>0.520926</td>\n",
       "      <td>-0.148977</td>\n",
       "      <td>-0.260659</td>\n",
       "    </tr>\n",
       "    <tr>\n",
       "      <th>income</th>\n",
       "      <td>0.109383</td>\n",
       "      <td>0.211275</td>\n",
       "      <td>0.132807</td>\n",
       "      <td>1.000000</td>\n",
       "      <td>0.141241</td>\n",
       "      <td>0.345161</td>\n",
       "      <td>-0.010741</td>\n",
       "      <td>-0.090790</td>\n",
       "    </tr>\n",
       "    <tr>\n",
       "      <th>ed</th>\n",
       "      <td>-0.070503</td>\n",
       "      <td>-0.071509</td>\n",
       "      <td>-0.145550</td>\n",
       "      <td>0.141241</td>\n",
       "      <td>1.000000</td>\n",
       "      <td>-0.213886</td>\n",
       "      <td>0.488041</td>\n",
       "      <td>0.216112</td>\n",
       "    </tr>\n",
       "    <tr>\n",
       "      <th>employ</th>\n",
       "      <td>0.445755</td>\n",
       "      <td>0.622553</td>\n",
       "      <td>0.520926</td>\n",
       "      <td>0.345161</td>\n",
       "      <td>-0.213886</td>\n",
       "      <td>1.000000</td>\n",
       "      <td>-0.174470</td>\n",
       "      <td>-0.337969</td>\n",
       "    </tr>\n",
       "    <tr>\n",
       "      <th>equip</th>\n",
       "      <td>-0.117102</td>\n",
       "      <td>-0.071357</td>\n",
       "      <td>-0.148977</td>\n",
       "      <td>-0.010741</td>\n",
       "      <td>0.488041</td>\n",
       "      <td>-0.174470</td>\n",
       "      <td>1.000000</td>\n",
       "      <td>0.275284</td>\n",
       "    </tr>\n",
       "    <tr>\n",
       "      <th>churn</th>\n",
       "      <td>-0.376860</td>\n",
       "      <td>-0.287697</td>\n",
       "      <td>-0.260659</td>\n",
       "      <td>-0.090790</td>\n",
       "      <td>0.216112</td>\n",
       "      <td>-0.337969</td>\n",
       "      <td>0.275284</td>\n",
       "      <td>1.000000</td>\n",
       "    </tr>\n",
       "  </tbody>\n",
       "</table>\n",
       "</div>"
      ]
     },
     "execution_count": 16,
     "metadata": {},
     "output_type": "execute_result"
    }
   ],
   "execution_count": 16
  },
  {
   "metadata": {
    "ExecuteTime": {
     "end_time": "2025-07-15T18:47:07.087789Z",
     "start_time": "2025-07-15T18:47:07.075395Z"
    }
   },
   "cell_type": "code",
   "source": [
    "# Let's use variables that have a large positive and negative coefficients, as well as low correlation. Tenure and equip are ideal here.\n",
    "churn_df_updated = churn_df[[\"tenure\", \"equip\", \"churn\"]]\n",
    "\n",
    "# Separate our independent variables from our target.\n",
    "X = churn_df_updated.drop(columns = [\"churn\"])\n",
    "y = churn_df_updated[\"churn\"]\n",
    "\n",
    "# Split our data\n",
    "X_train, X_test, y_train, y_test = train_test_split(X, y, test_size = 0.2, random_state = 42)\n",
    "\n",
    "# Standardize our independent variables.\n",
    "scalar = StandardScaler()\n",
    "scalar.fit(X_train)\n",
    "X_train_scaled = scalar.transform(X_train)\n",
    "X_test_scaled = scalar.transform(X_test)\n",
    "\n",
    "# Choose and train our model.\n",
    "model = LogisticRegression().fit(X_train_scaled, y_train)\n",
    "\n",
    "# Find the probability of assigning each datapoint (row) to either class 0 or class 1.\n",
    "y_hat_prob = model.predict_proba(X_test_scaled)\n",
    "\n",
    "# Evaluate our model using cross entropy loss\n",
    "log_loss(y_test, y_hat_prob)"
   ],
   "id": "725c503f32d44c6f",
   "outputs": [
    {
     "data": {
      "text/plain": [
       "0.38552543649380383"
      ]
     },
     "execution_count": 17,
     "metadata": {},
     "output_type": "execute_result"
    }
   ],
   "execution_count": 17
  }
 ],
 "metadata": {
  "kernelspec": {
   "display_name": "Python 3",
   "language": "python",
   "name": "python3"
  },
  "language_info": {
   "codemirror_mode": {
    "name": "ipython",
    "version": 2
   },
   "file_extension": ".py",
   "mimetype": "text/x-python",
   "name": "python",
   "nbconvert_exporter": "python",
   "pygments_lexer": "ipython2",
   "version": "2.7.6"
  }
 },
 "nbformat": 4,
 "nbformat_minor": 5
}
